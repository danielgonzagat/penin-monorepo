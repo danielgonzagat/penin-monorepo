{
 "cells": [
  {
   "cell_type": "markdown",
   "id": "26dcea1f",
   "metadata": {},
   "source": [
    "\n",
    "# Lemniscata de Penin (∞̸) — Validação por Simulação\n",
    "\n",
    "Este notebook demonstra o operador **∞̸ (infinito sob trilhos)** na prática:\n",
    "- Implementação mínima do operador como classe Python (`LemniscataPenin`).\n",
    "- Simulação de evolução com **novidade (N)**, **integridade (I)** e **novidade inadmissível (iN)**.\n",
    "- Comparação com um baseline **sem trilhos**.\n",
    "- Geração de gráficos, logs (CSV) e resumo (Markdown).\n"
   ]
  },
  {
   "cell_type": "code",
   "execution_count": null,
   "id": "3d2123ba",
   "metadata": {},
   "outputs": [],
   "source": [
    "\n",
    "import numpy as np\n",
    "import pandas as pd\n",
    "import matplotlib.pyplot as plt\n",
    "from dataclasses import dataclass\n",
    "from pathlib import Path\n",
    "import textwrap\n",
    "\n",
    "# Exibir gráficos inline (ao abrir no Jupyter)\n",
    "%matplotlib inline\n"
   ]
  },
  {
   "cell_type": "markdown",
   "id": "25629cfc",
   "metadata": {},
   "source": [
    "\n",
    "## Operador ∞̸ (infinito sob trilhos)\n",
    "\n",
    "Formalização programática mínima:\n",
    "\n",
    "\\[ P = \\infty\\̸ (E + N - iN), \\quad \\text{com} \\; iN = (1 - I) \\cdot N, \\; I \\in [0, 1] \\]\n"
   ]
  },
  {
   "cell_type": "code",
   "execution_count": null,
   "id": "7265dddb",
   "metadata": {},
   "outputs": [],
   "source": [
    "\n",
    "@dataclass\n",
    "class LemniscataPenin:\n",
    "    \"\"\"\n",
    "    Operador 'infinito sob trilhos' (∞̸).\n",
    "    P = ∞̸(E + N − iN), com iN = (1 − I) * N e I ∈ [0,1].\n",
    "    \"\"\"\n",
    "    def __call__(self, E: float, N: float, I: float) -> float:\n",
    "        I = float(np.clip(I, 0.0, 1.0))\n",
    "        N = float(max(0.0, N))\n",
    "        iN = (1.0 - I) * N\n",
    "        P = E + N - iN\n",
    "        return max(E, P)  # garante não regredir o estado\n",
    "\n",
    "lemniscata = LemniscataPenin()\n"
   ]
  },
  {
   "cell_type": "markdown",
   "id": "c9c36743",
   "metadata": {},
   "source": [
    "\n",
    "## Simulação\n",
    "\n",
    "- **N** é proposta de novidade com distribuição normal truncada em [0, 0.30].  \n",
    "- **I** (integridade) é derivada de um risco que cresce com N (com ruído).  \n",
    "- **Sem trilhos** aceita tudo e sofre instabilidade quando o risco sobe.  \n",
    "- **Com ∞̸** só passa a parte íntegra.\n"
   ]
  },
  {
   "cell_type": "code",
   "execution_count": null,
   "id": "f289f391",
   "metadata": {},
   "outputs": [],
   "source": [
    "\n",
    "def propose_novelty(rng: np.random.Generator) -> float:\n",
    "    N = rng.normal(0.06, 0.04)\n",
    "    return float(np.clip(N, 0.0, 0.30))\n",
    "\n",
    "def compute_integrity_from_risk(N: float, rng: np.random.Generator) -> tuple[float, float]:\n",
    "    risk = np.clip(1.2 * N + rng.normal(0.0, 0.05), 0.0, 1.0)\n",
    "    I = 1.0 - risk\n",
    "    return float(np.clip(I, 0.0, 1.0)), float(risk)\n",
    "\n",
    "rng = np.random.default_rng(42)\n",
    "T = 300\n",
    "E_lem = 0.40\n",
    "E_raw = 0.40\n",
    "rows = []\n",
    "\n",
    "for t in range(1, T + 1):\n",
    "    N = propose_novelty(rng)\n",
    "    I, risk = compute_integrity_from_risk(N, rng)\n",
    "\n",
    "    # Lemniscata (∞̸)\n",
    "    P = lemniscata(E_lem, N, I)\n",
    "    accepted = P > E_lem\n",
    "    E_lem_next = P if accepted else E_lem\n",
    "\n",
    "    # Baseline sem trilhos\n",
    "    E_raw_next = E_raw + N\n",
    "    if risk > 0.70:\n",
    "        E_raw_next = max(0.0, E_raw_next - risk * 0.8)\n",
    "    elif risk > 0.50:\n",
    "        E_raw_next = max(0.0, E_raw_next - risk * 0.3)\n",
    "\n",
    "    E_lem = float(np.clip(E_lem_next, 0.0, 1.2))\n",
    "    E_raw = float(np.clip(E_raw_next, 0.0, 1.2))\n",
    "    iN = (1.0 - I) * N\n",
    "\n",
    "    rows.append({\n",
    "        \"iter\": t,\n",
    "        \"N\": N,\n",
    "        \"I\": I,\n",
    "        \"risk\": risk,\n",
    "        \"iN\": iN,\n",
    "        \"P_lem\": P,\n",
    "        \"accepted_lem\": int(accepted),\n",
    "        \"E_after\": E_lem,\n",
    "        \"E_raw\": E_raw,\n",
    "    })\n",
    "\n",
    "df = pd.DataFrame(rows)\n",
    "df.head()\n"
   ]
  },
  {
   "cell_type": "markdown",
   "id": "b60d8573",
   "metadata": {},
   "source": [
    "\n",
    "## Gráficos\n"
   ]
  },
  {
   "cell_type": "code",
   "execution_count": null,
   "id": "e86ccced",
   "metadata": {},
   "outputs": [],
   "source": [
    "\n",
    "plt.figure()\n",
    "plt.plot(df[\"iter\"], df[\"E_after\"], label=\"Com ∞̸ (nos trilhos)\")\n",
    "plt.plot(df[\"iter\"], df[\"E_raw\"], label=\"Sem trilhos (aceita tudo)\")\n",
    "plt.xlabel(\"Iteração\")\n",
    "plt.ylabel(\"Eficiência (E)\")\n",
    "plt.title(\"Evolução da Eficiência: Lemniscata ∞̸ vs Sem Trilhos\")\n",
    "plt.legend()\n",
    "plt.tight_layout()\n",
    "plt.show()\n"
   ]
  },
  {
   "cell_type": "code",
   "execution_count": null,
   "id": "648e6285",
   "metadata": {},
   "outputs": [],
   "source": [
    "\n",
    "plt.figure()\n",
    "plt.plot(df[\"iter\"], df[\"I\"], label=\"Integridade (I)\")\n",
    "plt.xlabel(\"Iteração\")\n",
    "plt.ylabel(\"Integridade (I)\")\n",
    "plt.title(\"Integridade por Iteração\")\n",
    "plt.legend()\n",
    "plt.tight_layout()\n",
    "plt.show()\n"
   ]
  },
  {
   "cell_type": "code",
   "execution_count": null,
   "id": "ecc7d047",
   "metadata": {},
   "outputs": [],
   "source": [
    "\n",
    "plt.figure()\n",
    "plt.plot(df[\"iter\"], df[\"N\"], label=\"Novidade (N)\")\n",
    "plt.plot(df[\"iter\"], df[\"iN\"], label=\"Novidade inadmissível (iN)\")\n",
    "plt.xlabel(\"Iteração\")\n",
    "plt.ylabel(\"Valores\")\n",
    "plt.title(\"Novidade (N) vs Novidade Inadmissível (iN)\")\n",
    "plt.legend()\n",
    "plt.tight_layout()\n",
    "plt.show()\n"
   ]
  },
  {
   "cell_type": "code",
   "execution_count": null,
   "id": "77a0dfeb",
   "metadata": {},
   "outputs": [],
   "source": [
    "\n",
    "plt.figure()\n",
    "plt.plot(df[\"iter\"], df[\"accepted_lem\"], label=\"Mutação aceita (∞̸)\")\n",
    "plt.xlabel(\"Iteração\")\n",
    "plt.ylabel(\"Aceita (1) / Rejeita (0)\")\n",
    "plt.title(\"Decisões de Aceitação sob ∞̸\")\n",
    "plt.legend()\n",
    "plt.tight_layout()\n",
    "plt.show()\n"
   ]
  },
  {
   "cell_type": "markdown",
   "id": "17c51e46",
   "metadata": {},
   "source": [
    "\n",
    "## Artefatos (logs e resumo)\n"
   ]
  },
  {
   "cell_type": "code",
   "execution_count": null,
   "id": "92286b03",
   "metadata": {},
   "outputs": [],
   "source": [
    "\n",
    "out_dir = Path(\"/mnt/data\")\n",
    "out_dir.mkdir(parents=True, exist_ok=True)\n",
    "\n",
    "csv_path = out_dir / \"lemniscata_validacao_logs.csv\"\n",
    "df.to_csv(csv_path, index=False)\n",
    "\n",
    "summary = f\"\"\"\n",
    "# Relatório-Resumo — Validação da Lemniscata de Penin (∞̸)\n",
    "\n",
    "**Iterações:** {len(df)}\n",
    "\n",
    "**Eficiência final (∞̸):** {df['E_after'].iloc[-1]:.4f}\n",
    "**Eficiência final (sem trilhos):** {df['E_raw'].iloc[-1]:.4f}\n",
    "**Aceitação média (∞̸):** {df['accepted_lem'].mean():.2f}\n",
    "\n",
    "Notas:\n",
    "- O operador ∞̸ aceita apenas a parcela íntegra da novidade (N − iN) e mantém evolução sustentável.\n",
    "- O baseline sem trilhos, ao aceitar tudo, sofre instabilidades quando o risco é alto.\n",
    "\"\"\"\n",
    "\n",
    "md_path = out_dir / \"lemniscata_validacao_relatorio.md\"\n",
    "md_path.write_text(textwrap.dedent(summary), encoding=\"utf-8\")\n",
    "\n",
    "csv_path, md_path\n"
   ]
  }
 ],
 "metadata": {},
 "nbformat": 4,
 "nbformat_minor": 5
}
